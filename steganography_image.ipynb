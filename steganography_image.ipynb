{
  "nbformat": 4,
  "nbformat_minor": 0,
  "metadata": {
    "colab": {
      "name": "steganography-image.ipynb",
      "provenance": [],
      "toc_visible": true,
      "authorship_tag": "ABX9TyOc+xFaNTTJtwwIHodPw0j6",
      "include_colab_link": true
    },
    "kernelspec": {
      "name": "python3",
      "display_name": "Python 3"
    },
    "language_info": {
      "name": "python"
    }
  },
  "cells": [
    {
      "cell_type": "markdown",
      "metadata": {
        "id": "view-in-github",
        "colab_type": "text"
      },
      "source": [
        "<a href=\"https://colab.research.google.com/github/qursaan/steganography/blob/main/steganography_image.ipynb\" target=\"_parent\"><img src=\"https://colab.research.google.com/assets/colab-badge.svg\" alt=\"Open In Colab\"/></a>"
      ]
    },
    {
      "cell_type": "markdown",
      "metadata": {
        "id": "VGWKqGvHhw4a"
      },
      "source": [
        "## How to Use Steganography to Hide Secret Data in Images in Python\n"
      ]
    },
    {
      "cell_type": "code",
      "metadata": {
        "colab": {
          "base_uri": "https://localhost:8080/"
        },
        "id": "6-v2qVYghrSX",
        "outputId": "824f329b-5fbb-4c4e-a371-f11b1c876326"
      },
      "source": [
        "! pip3 install opencv-python numpy\n"
      ],
      "execution_count": 1,
      "outputs": [
        {
          "output_type": "stream",
          "text": [
            "Requirement already satisfied: opencv-python in /usr/local/lib/python3.7/dist-packages (4.1.2.30)\n",
            "Requirement already satisfied: numpy in /usr/local/lib/python3.7/dist-packages (1.19.5)\n"
          ],
          "name": "stdout"
        }
      ]
    },
    {
      "cell_type": "code",
      "metadata": {
        "id": "SLOflw35hwTS"
      },
      "source": [
        "import cv2\n",
        "import numpy as np"
      ],
      "execution_count": 3,
      "outputs": []
    },
    {
      "cell_type": "code",
      "metadata": {
        "id": "yxdfW3pykfz1"
      },
      "source": [
        "def to_bin(data):\n",
        "    \"\"\"Convert `data` to binary format as string\"\"\"\n",
        "    if isinstance(data, str):\n",
        "        return ''.join([ format(ord(i), \"08b\") for i in data ])\n",
        "    elif isinstance(data, bytes) or isinstance(data, np.ndarray):\n",
        "        return [ format(i, \"08b\") for i in data ]\n",
        "    elif isinstance(data, int) or isinstance(data, np.uint8):\n",
        "        return format(data, \"08b\")\n",
        "    else:\n",
        "        raise TypeError(\"Type not supported.\")"
      ],
      "execution_count": 4,
      "outputs": []
    },
    {
      "cell_type": "markdown",
      "metadata": {
        "id": "GRTmRSt6knbJ"
      },
      "source": [
        "## Encoder\n",
        "Here is what the encode() function does:\n",
        "1. Reads the image using cv2.imread() function.\n",
        "2. Counts the maximum bytes available to encode the data.\n",
        "3. Checks whether we can encode all the data into the image.\n",
        "4. Adding a stopping criteria, this will be as indicator for the decoder to stop decoding whenever it sees this.\n",
        "5. Finally, modifying the last bit of each pixel and replacing it by the data bit."
      ]
    },
    {
      "cell_type": "code",
      "metadata": {
        "id": "-xWMveAUkiSi"
      },
      "source": [
        "def encode(image_name, secret_data):\n",
        "    # read the image\n",
        "    image = cv2.imread(image_name)\n",
        "    # maximum bytes to encode\n",
        "    n_bytes = image.shape[0] * image.shape[1] * 3 // 8\n",
        "    print(\"[*] Maximum bytes to encode:\", n_bytes)\n",
        "    if len(secret_data) > n_bytes:\n",
        "        raise ValueError(\"[!] Insufficient bytes, need bigger image or less data.\")\n",
        "    print(\"[*] Encoding data...\")\n",
        "    # add stopping criteria\n",
        "    secret_data += \"=====\"\n",
        "    data_index = 0\n",
        "    # convert data to binary\n",
        "    binary_secret_data = to_bin(secret_data)\n",
        "    # size of data to hide\n",
        "    data_len = len(binary_secret_data)\n",
        "    for row in image:\n",
        "        for pixel in row:\n",
        "            # convert RGB values to binary format\n",
        "            r, g, b = to_bin(pixel)\n",
        "            # modify the least significant bit only if there is still data to store\n",
        "            if data_index < data_len:\n",
        "                # least significant red pixel bit\n",
        "                pixel[0] = int(r[:-1] + binary_secret_data[data_index], 2)\n",
        "                data_index += 1\n",
        "            if data_index < data_len:\n",
        "                # least significant green pixel bit\n",
        "                pixel[1] = int(g[:-1] + binary_secret_data[data_index], 2)\n",
        "                data_index += 1\n",
        "            if data_index < data_len:\n",
        "                # least significant blue pixel bit\n",
        "                pixel[2] = int(b[:-1] + binary_secret_data[data_index], 2)\n",
        "                data_index += 1\n",
        "            # if data is encoded, just break out of the loop\n",
        "            if data_index >= data_len:\n",
        "                break\n",
        "    return image"
      ],
      "execution_count": 5,
      "outputs": []
    },
    {
      "cell_type": "markdown",
      "metadata": {
        "id": "VKV0Rg1Nhvcy"
      },
      "source": [
        "## Decoder\n",
        "We read the image and then get all the last bits of every pixel of the image. After that, we keep decoding until we see that stopping criteria.\n",
        "\n"
      ]
    },
    {
      "cell_type": "code",
      "metadata": {
        "id": "ApNepJ-Sk6nV"
      },
      "source": [
        "def decode(image_name):\n",
        "    print(\"[+] Decoding...\")\n",
        "    # read the image\n",
        "    image = cv2.imread(image_name)\n",
        "    binary_data = \"\"\n",
        "    for row in image:\n",
        "        for pixel in row:\n",
        "            r, g, b = to_bin(pixel)\n",
        "            binary_data += r[-1]\n",
        "            binary_data += g[-1]\n",
        "            binary_data += b[-1]\n",
        "    # split by 8-bits\n",
        "    all_bytes = [ binary_data[i: i+8] for i in range(0, len(binary_data), 8) ]\n",
        "    # convert from bits to characters\n",
        "    decoded_data = \"\"\n",
        "    for byte in all_bytes:\n",
        "        decoded_data += chr(int(byte, 2))\n",
        "        if decoded_data[-5:] == \"=====\":\n",
        "            break\n",
        "    return decoded_data[:-5]"
      ],
      "execution_count": 6,
      "outputs": []
    },
    {
      "cell_type": "markdown",
      "metadata": {
        "id": "uQsnR32VlCUz"
      },
      "source": [
        "## Test the function"
      ]
    },
    {
      "cell_type": "code",
      "metadata": {
        "id": "_1MizeT5k9dC"
      },
      "source": [
        "if __name__ == \"__main__\":\n",
        "    input_image = \"image.PNG\"\n",
        "    output_image = \"encoded_image.PNG\"\n",
        "    secret_data = \"This is a top secret message.\"\n",
        "    # encode the data into the image\n",
        "    encoded_image = encode(image_name=input_image, secret_data=secret_data)\n",
        "    # save the output image (encoded image)\n",
        "    cv2.imwrite(output_image, encoded_image)\n",
        "    # decode the secret data from the image\n",
        "    decoded_data = decode(output_image)\n",
        "    print(\"[+] Decoded data:\", decoded_data)"
      ],
      "execution_count": null,
      "outputs": []
    },
    {
      "cell_type": "markdown",
      "metadata": {
        "id": "RWPjLs7vlNqo"
      },
      "source": [
        "## challenges you can do:\n",
        "1. Encrypting the data before encoding it in the image.\n",
        "2. Encode an entire file of any type in an image.\n",
        "3. Use 2-Least Significant Bits technique to encode more data.\n",
        "4. Encode massive amount of data in videos instead of images."
      ]
    }
  ]
}